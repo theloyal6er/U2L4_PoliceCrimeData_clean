{
 "cells": [
  {
   "cell_type": "code",
   "execution_count": 1,
   "metadata": {},
   "outputs": [],
   "source": [
    "%matplotlib inline\n",
    "import numpy as np\n",
    "import pandas as pd\n",
    "import scipy\n",
    "import sklearn\n",
    "import matplotlib.pyplot as plt\n",
    "import seaborn as sns"
   ]
  },
  {
   "cell_type": "code",
   "execution_count": 2,
   "metadata": {},
   "outputs": [],
   "source": [
    "data_path = (\"https://raw.githubusercontent.com/Thinkful-Ed/data-201-resources/master/New_York_offenses/NEW_YORK-Offenses_Known_to_Law_Enforcement_by_City_2013%20-%2013tbl8ny.csv\")"
   ]
  },
  {
   "cell_type": "code",
   "execution_count": 60,
   "metadata": {},
   "outputs": [],
   "source": [
    "raw_data = pd.read_csv(data_path)"
   ]
  },
  {
   "cell_type": "code",
   "execution_count": 64,
   "metadata": {},
   "outputs": [],
   "source": [
    "## Clean up the data - remove first three rows that bad data\n",
    "#raw_data = raw_data.iloc[3:]\n",
    "## Make the first row the column headers\n",
    "#raw_data.columns = raw_data.iloc[0]\n",
    "## Remove the first row\n",
    "#raw_data = raw_data.iloc[1:]"
   ]
  },
  {
   "cell_type": "code",
   "execution_count": 67,
   "metadata": {
    "scrolled": true
   },
   "outputs": [],
   "source": [
    "#Remove the bad column\n",
    "raw_data = raw_data.drop('Rape\\n(revised\\ndefinition)1',1)"
   ]
  },
  {
   "cell_type": "code",
   "execution_count": 24,
   "metadata": {},
   "outputs": [
    {
     "data": {
      "text/plain": [
       "Index(['City', 'Population', 'Violent\\ncrime',\n",
       "       'Murder and\\nnonnegligent\\nmanslaughter',\n",
       "       'Rape\\n(revised\\ndefinition)1', 'Rape\\n(legacy\\ndefinition)2',\n",
       "       'Robbery', 'Aggravated\\nassault', 'Property\\ncrime', 'Burglary',\n",
       "       'Larceny-\\ntheft', 'Motor\\nvehicle\\ntheft', 'Arson3'],\n",
       "      dtype='object', name=3)"
      ]
     },
     "execution_count": 24,
     "metadata": {},
     "output_type": "execute_result"
    }
   ],
   "source": [
    "raw_data.columns"
   ]
  },
  {
   "cell_type": "code",
   "execution_count": 65,
   "metadata": {},
   "outputs": [],
   "source": [
    "#Rename the columns to make it easier to code with\n",
    "raw_data = raw_data.rename(columns={'Violent\\ncrime': 'ViolentCrime',\n",
    "                                    'Murder and\\nnonnegligent\\nmanslaughter': 'Murder',\n",
    "                                    'Rape\\n(legacy\\ndefinition)2':'Rape',\n",
    "                                    'Aggravated\\nassault':'AggravatedAssault',\n",
    "                                    'Property\\ncrime':'PropertyCrime',\n",
    "                                    'Larceny-\\ntheft':'LarcenyTheft',\n",
    "                                    'Motor\\nvehicle\\ntheft':'MotorTheft',\n",
    "                                    'Arson3':'Arson'})"
   ]
  },
  {
   "cell_type": "code",
   "execution_count": 74,
   "metadata": {
    "scrolled": true
   },
   "outputs": [
    {
     "data": {
      "text/plain": [
       "3\n",
       "City                 object\n",
       "Population           object\n",
       "ViolentCrime         object\n",
       "Murder               object\n",
       "Rape                 object\n",
       "Robbery              object\n",
       "AggravatedAssault    object\n",
       "PropertyCrime        object\n",
       "Burglary             object\n",
       "LarcenyTheft         object\n",
       "MotorTheft           object\n",
       "Arson                object\n",
       "dtype: object"
      ]
     },
     "execution_count": 74,
     "metadata": {},
     "output_type": "execute_result"
    }
   ],
   "source": [
    "raw_data.dtypes"
   ]
  },
  {
   "cell_type": "code",
   "execution_count": 80,
   "metadata": {
    "scrolled": true
   },
   "outputs": [],
   "source": [
    "#Clean data to remove commas\n",
    "raw_data['Population'] = raw_data['Population'].str.replace(',', '')\n",
    "raw_data['ViolentCrime'] = raw_data['ViolentCrime'].str.replace(',', '')\n",
    "raw_data['Murder'] = raw_data['Murder'].str.replace(',', '')\n",
    "raw_data['Rape'] = raw_data['Rape'].str.replace(',', '')\n",
    "raw_data['Robbery'] = raw_data['Robbery'].str.replace(',', '')\n",
    "raw_data['AggravatedAssault'] = raw_data['AggravatedAssault'].str.replace(',', '')\n",
    "raw_data['PropertyCrime'] = raw_data['PropertyCrime'].str.replace(',', '')\n",
    "raw_data['Burglary'] = raw_data['Burglary'].str.replace(',', '')\n",
    "raw_data['LarcenyTheft'] = raw_data['LarcenyTheft'].str.replace(',', '')\n",
    "raw_data['MotorTheft'] = raw_data['MotorTheft'].str.replace(',', '')\n",
    "raw_data['Arson'] = raw_data['Arson'].str.replace(',', '')"
   ]
  },
  {
   "cell_type": "code",
   "execution_count": 120,
   "metadata": {
    "scrolled": true
   },
   "outputs": [],
   "source": [
    "#Clean data to convert to float\n",
    "raw_data['Population'] = raw_data['Population'].astype(float)\n",
    "raw_data['ViolentCrime'] = raw_data['ViolentCrime'].astype(float)\n",
    "raw_data['Murder'] = raw_data['Murder'].astype(float)\n",
    "raw_data['Rape'] = raw_data['Rape'].astype(float)\n",
    "raw_data['Robbery'] = raw_data['Robbery'].astype(float)\n",
    "raw_data['AggravatedAssault'] = raw_data['AggravatedAssault'].astype(float)\n",
    "raw_data['PropertyCrime'] = raw_data['PropertyCrime'].astype(float)\n",
    "raw_data['Burglary'] = raw_data['Burglary'].astype(float)\n",
    "raw_data['LarcenyTheft'] = raw_data['LarcenyTheft'].astype(float)\n",
    "raw_data['MotorTheft'] = raw_data['MotorTheft'].astype(float)\n",
    "raw_data['Arson'] = raw_data['Arson'].astype(float)"
   ]
  },
  {
   "cell_type": "code",
   "execution_count": 92,
   "metadata": {
    "scrolled": false
   },
   "outputs": [
    {
     "data": {
      "text/html": [
       "<div>\n",
       "<style scoped>\n",
       "    .dataframe tbody tr th:only-of-type {\n",
       "        vertical-align: middle;\n",
       "    }\n",
       "\n",
       "    .dataframe tbody tr th {\n",
       "        vertical-align: top;\n",
       "    }\n",
       "\n",
       "    .dataframe thead th {\n",
       "        text-align: right;\n",
       "    }\n",
       "</style>\n",
       "<table border=\"1\" class=\"dataframe\">\n",
       "  <thead>\n",
       "    <tr style=\"text-align: right;\">\n",
       "      <th>3</th>\n",
       "      <th>City</th>\n",
       "      <th>Population</th>\n",
       "      <th>ViolentCrime</th>\n",
       "      <th>Murder</th>\n",
       "      <th>Rape</th>\n",
       "      <th>Robbery</th>\n",
       "      <th>AggravatedAssault</th>\n",
       "      <th>PropertyCrime</th>\n",
       "      <th>Burglary</th>\n",
       "      <th>LarcenyTheft</th>\n",
       "      <th>MotorTheft</th>\n",
       "      <th>Arson</th>\n",
       "    </tr>\n",
       "  </thead>\n",
       "  <tbody>\n",
       "    <tr>\n",
       "      <th>4</th>\n",
       "      <td>Adams Village</td>\n",
       "      <td>1861.0</td>\n",
       "      <td>0.0</td>\n",
       "      <td>0.0</td>\n",
       "      <td>0.0</td>\n",
       "      <td>0.0</td>\n",
       "      <td>0.0</td>\n",
       "      <td>12.0</td>\n",
       "      <td>2.0</td>\n",
       "      <td>10.0</td>\n",
       "      <td>0.0</td>\n",
       "      <td>0.0</td>\n",
       "    </tr>\n",
       "    <tr>\n",
       "      <th>5</th>\n",
       "      <td>Addison Town and Village</td>\n",
       "      <td>2577.0</td>\n",
       "      <td>3.0</td>\n",
       "      <td>0.0</td>\n",
       "      <td>0.0</td>\n",
       "      <td>0.0</td>\n",
       "      <td>3.0</td>\n",
       "      <td>24.0</td>\n",
       "      <td>3.0</td>\n",
       "      <td>20.0</td>\n",
       "      <td>1.0</td>\n",
       "      <td>0.0</td>\n",
       "    </tr>\n",
       "    <tr>\n",
       "      <th>6</th>\n",
       "      <td>Akron Village</td>\n",
       "      <td>2846.0</td>\n",
       "      <td>3.0</td>\n",
       "      <td>0.0</td>\n",
       "      <td>0.0</td>\n",
       "      <td>0.0</td>\n",
       "      <td>3.0</td>\n",
       "      <td>16.0</td>\n",
       "      <td>1.0</td>\n",
       "      <td>15.0</td>\n",
       "      <td>0.0</td>\n",
       "      <td>0.0</td>\n",
       "    </tr>\n",
       "    <tr>\n",
       "      <th>7</th>\n",
       "      <td>Albany</td>\n",
       "      <td>97956.0</td>\n",
       "      <td>791.0</td>\n",
       "      <td>8.0</td>\n",
       "      <td>30.0</td>\n",
       "      <td>227.0</td>\n",
       "      <td>526.0</td>\n",
       "      <td>4090.0</td>\n",
       "      <td>705.0</td>\n",
       "      <td>3243.0</td>\n",
       "      <td>142.0</td>\n",
       "      <td>NaN</td>\n",
       "    </tr>\n",
       "    <tr>\n",
       "      <th>8</th>\n",
       "      <td>Albion Village</td>\n",
       "      <td>6388.0</td>\n",
       "      <td>23.0</td>\n",
       "      <td>0.0</td>\n",
       "      <td>3.0</td>\n",
       "      <td>4.0</td>\n",
       "      <td>16.0</td>\n",
       "      <td>223.0</td>\n",
       "      <td>53.0</td>\n",
       "      <td>165.0</td>\n",
       "      <td>5.0</td>\n",
       "      <td>NaN</td>\n",
       "    </tr>\n",
       "  </tbody>\n",
       "</table>\n",
       "</div>"
      ],
      "text/plain": [
       "3                      City  Population  ViolentCrime  Murder  Rape  Robbery  \\\n",
       "4             Adams Village      1861.0           0.0     0.0   0.0      0.0   \n",
       "5  Addison Town and Village      2577.0           3.0     0.0   0.0      0.0   \n",
       "6             Akron Village      2846.0           3.0     0.0   0.0      0.0   \n",
       "7                    Albany     97956.0         791.0     8.0  30.0    227.0   \n",
       "8            Albion Village      6388.0          23.0     0.0   3.0      4.0   \n",
       "\n",
       "3  AggravatedAssault  PropertyCrime  Burglary  LarcenyTheft  MotorTheft  Arson  \n",
       "4                0.0           12.0       2.0          10.0         0.0    0.0  \n",
       "5                3.0           24.0       3.0          20.0         1.0    0.0  \n",
       "6                3.0           16.0       1.0          15.0         0.0    0.0  \n",
       "7              526.0         4090.0     705.0        3243.0       142.0    NaN  \n",
       "8               16.0          223.0      53.0         165.0         5.0    NaN  "
      ]
     },
     "execution_count": 92,
     "metadata": {},
     "output_type": "execute_result"
    }
   ],
   "source": [
    "raw_data.head()"
   ]
  },
  {
   "cell_type": "code",
   "execution_count": 121,
   "metadata": {},
   "outputs": [],
   "source": [
    "model_data = raw_data.filter(['City','Population','Murder','Robbery'], axis=1)"
   ]
  },
  {
   "cell_type": "code",
   "execution_count": 122,
   "metadata": {
    "scrolled": true
   },
   "outputs": [
    {
     "data": {
      "text/plain": [
       "3\n",
       "City                  object\n",
       "Population           float64\n",
       "ViolentCrime         float64\n",
       "Murder               float64\n",
       "Rape                 float64\n",
       "Robbery              float64\n",
       "AggravatedAssault    float64\n",
       "PropertyCrime        float64\n",
       "Burglary             float64\n",
       "LarcenyTheft         float64\n",
       "MotorTheft           float64\n",
       "Arson                float64\n",
       "dtype: object"
      ]
     },
     "execution_count": 122,
     "metadata": {},
     "output_type": "execute_result"
    }
   ],
   "source": [
    "raw_data.dtypes"
   ]
  },
  {
   "cell_type": "code",
   "execution_count": 129,
   "metadata": {},
   "outputs": [
    {
     "data": {
      "text/plain": [
       "3\n",
       "City             object\n",
       "Population      float64\n",
       "Murder          float64\n",
       "Robbery         float64\n",
       "Population_2    float64\n",
       "dtype: object"
      ]
     },
     "execution_count": 129,
     "metadata": {},
     "output_type": "execute_result"
    }
   ],
   "source": [
    "model_data.dtypes"
   ]
  },
  {
   "cell_type": "code",
   "execution_count": 131,
   "metadata": {},
   "outputs": [
    {
     "data": {
      "text/html": [
       "<div>\n",
       "<style scoped>\n",
       "    .dataframe tbody tr th:only-of-type {\n",
       "        vertical-align: middle;\n",
       "    }\n",
       "\n",
       "    .dataframe tbody tr th {\n",
       "        vertical-align: top;\n",
       "    }\n",
       "\n",
       "    .dataframe thead th {\n",
       "        text-align: right;\n",
       "    }\n",
       "</style>\n",
       "<table border=\"1\" class=\"dataframe\">\n",
       "  <thead>\n",
       "    <tr style=\"text-align: right;\">\n",
       "      <th>3</th>\n",
       "      <th>City</th>\n",
       "      <th>Population</th>\n",
       "      <th>Murder</th>\n",
       "      <th>Robbery</th>\n",
       "      <th>Population_2</th>\n",
       "    </tr>\n",
       "  </thead>\n",
       "  <tbody>\n",
       "    <tr>\n",
       "      <th>4</th>\n",
       "      <td>Adams Village</td>\n",
       "      <td>1861.0</td>\n",
       "      <td>0.0</td>\n",
       "      <td>0.0</td>\n",
       "      <td>3.463321e+06</td>\n",
       "    </tr>\n",
       "    <tr>\n",
       "      <th>5</th>\n",
       "      <td>Addison Town and Village</td>\n",
       "      <td>2577.0</td>\n",
       "      <td>0.0</td>\n",
       "      <td>0.0</td>\n",
       "      <td>6.640929e+06</td>\n",
       "    </tr>\n",
       "    <tr>\n",
       "      <th>6</th>\n",
       "      <td>Akron Village</td>\n",
       "      <td>2846.0</td>\n",
       "      <td>0.0</td>\n",
       "      <td>0.0</td>\n",
       "      <td>8.099716e+06</td>\n",
       "    </tr>\n",
       "    <tr>\n",
       "      <th>7</th>\n",
       "      <td>Albany</td>\n",
       "      <td>97956.0</td>\n",
       "      <td>1.0</td>\n",
       "      <td>1.0</td>\n",
       "      <td>9.595378e+09</td>\n",
       "    </tr>\n",
       "    <tr>\n",
       "      <th>8</th>\n",
       "      <td>Albion Village</td>\n",
       "      <td>6388.0</td>\n",
       "      <td>0.0</td>\n",
       "      <td>1.0</td>\n",
       "      <td>4.080654e+07</td>\n",
       "    </tr>\n",
       "  </tbody>\n",
       "</table>\n",
       "</div>"
      ],
      "text/plain": [
       "3                      City  Population  Murder  Robbery  Population_2\n",
       "4             Adams Village      1861.0     0.0      0.0  3.463321e+06\n",
       "5  Addison Town and Village      2577.0     0.0      0.0  6.640929e+06\n",
       "6             Akron Village      2846.0     0.0      0.0  8.099716e+06\n",
       "7                    Albany     97956.0     1.0      1.0  9.595378e+09\n",
       "8            Albion Village      6388.0     0.0      1.0  4.080654e+07"
      ]
     },
     "execution_count": 131,
     "metadata": {},
     "output_type": "execute_result"
    }
   ],
   "source": [
    "model_data.head()"
   ]
  },
  {
   "cell_type": "code",
   "execution_count": 132,
   "metadata": {
    "scrolled": true
   },
   "outputs": [],
   "source": [
    "# Create feature variables - Population^2, If/Else statements with Murder/Robbery\n",
    "model_data['Population_2'] = model_data['Population']**2\n",
    "model_data['Murder'] = model_data['Murder'].clip_upper(1)\n",
    "model_data['Robbery'] = model_data['Robbery'].clip_upper(1)"
   ]
  }
 ],
 "metadata": {
  "kernelspec": {
   "display_name": "Python 3",
   "language": "python",
   "name": "python3"
  },
  "language_info": {
   "codemirror_mode": {
    "name": "ipython",
    "version": 3
   },
   "file_extension": ".py",
   "mimetype": "text/x-python",
   "name": "python",
   "nbconvert_exporter": "python",
   "pygments_lexer": "ipython3",
   "version": "3.7.0"
  }
 },
 "nbformat": 4,
 "nbformat_minor": 2
}
